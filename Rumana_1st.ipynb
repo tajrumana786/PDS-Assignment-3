{
 "cells": [
  {
   "cell_type": "code",
   "execution_count": 1,
   "id": "4dff1dd1",
   "metadata": {},
   "outputs": [
    {
     "name": "stdout",
     "output_type": "stream",
     "text": [
      "Requirement already satisfied: requests in /Users/tanuja/anaconda3/lib/python3.11/site-packages (2.31.0)\n",
      "Requirement already satisfied: charset-normalizer<4,>=2 in /Users/tanuja/anaconda3/lib/python3.11/site-packages (from requests) (2.0.4)\n",
      "Requirement already satisfied: idna<4,>=2.5 in /Users/tanuja/anaconda3/lib/python3.11/site-packages (from requests) (3.4)\n",
      "Requirement already satisfied: urllib3<3,>=1.21.1 in /Users/tanuja/anaconda3/lib/python3.11/site-packages (from requests) (1.26.16)\n",
      "Requirement already satisfied: certifi>=2017.4.17 in /Users/tanuja/anaconda3/lib/python3.11/site-packages (from requests) (2023.7.22)\n",
      "Note: you may need to restart the kernel to use updated packages.\n"
     ]
    }
   ],
   "source": [
    "pip install requests"
   ]
  },
  {
   "cell_type": "code",
   "execution_count": 8,
   "id": "c6469146",
   "metadata": {},
   "outputs": [
    {
     "name": "stdout",
     "output_type": "stream",
     "text": [
      "{'status': 200, 'time': '2024-04-15T23:54:47.368Z', 'results': [{'name': 'AP Poll', 'rankings': [{'rank': 1, 'team': 'Michigan', 'teamId': 1056}, {'rank': 2, 'team': 'Washington', 'teamId': 1320}, {'rank': 3, 'team': 'Texas', 'teamId': 1398}, {'rank': 4, 'team': 'Georgia', 'teamId': 1365}, {'rank': 5, 'team': 'Alabama', 'teamId': 1265}, {'rank': 6, 'team': 'Florida State', 'teamId': 1048}, {'rank': 6, 'team': 'Oregon', 'teamId': 1388}, {'rank': 8, 'team': 'Missouri', 'teamId': 1293}, {'rank': 9, 'team': 'Mississippi', 'teamId': 1138}, {'rank': 10, 'team': 'Ohio State', 'teamId': 1387}, {'rank': 11, 'team': 'Arizona', 'teamId': 1113}, {'rank': 12, 'team': 'LSU', 'teamId': 1375}, {'rank': 13, 'team': 'Penn State', 'teamId': 1302}, {'rank': 14, 'team': 'Notre Dame', 'teamId': 1064}, {'rank': 15, 'team': 'Oklahoma', 'teamId': 1065}, {'rank': 16, 'team': 'Oklahoma State', 'teamId': 1145}, {'rank': 17, 'team': 'Tennessee', 'teamId': 1397}, {'rank': 18, 'team': 'Kansas State', 'teamId': 1132}, {'rank': 19, 'team': 'Louisville', 'teamId': 1054}, {'rank': 20, 'team': 'Clemson', 'teamId': 1272}, {'rank': 21, 'team': 'NC State', 'teamId': 1141}, {'rank': 22, 'team': 'SMU', 'teamId': 1307}, {'rank': 23, 'team': 'Kansas', 'teamId': 1053}, {'rank': 24, 'team': 'Iowa', 'teamId': 1209}, {'rank': 25, 'team': 'Liberty', 'teamId': 1373}]}, {'name': 'Coaches Poll', 'rankings': [{'rank': 1, 'team': 'Michigan', 'teamId': 1056}, {'rank': 2, 'team': 'Washington', 'teamId': 1320}, {'rank': 3, 'team': 'Georgia', 'teamId': 1365}, {'rank': 4, 'team': 'Texas', 'teamId': 1398}, {'rank': 5, 'team': 'Alabama', 'teamId': 1265}, {'rank': 6, 'team': 'Florida State', 'teamId': 1048}, {'rank': 7, 'team': 'Oregon', 'teamId': 1388}, {'rank': 8, 'team': 'Missouri', 'teamId': 1293}, {'rank': 9, 'team': 'Mississippi', 'teamId': 1138}, {'rank': 10, 'team': 'Ohio State', 'teamId': 1387}, {'rank': 11, 'team': 'Arizona', 'teamId': 1113}, {'rank': 12, 'team': 'LSU', 'teamId': 1375}, {'rank': 13, 'team': 'Penn State', 'teamId': 1302}, {'rank': 14, 'team': 'Notre Dame', 'teamId': 1064}, {'rank': 15, 'team': 'Oklahoma', 'teamId': 1065}, {'rank': 16, 'team': 'Oklahoma State', 'teamId': 1145}, {'rank': 17, 'team': 'Tennessee', 'teamId': 1397}, {'rank': 18, 'team': 'Louisville', 'teamId': 1054}, {'rank': 19, 'team': 'Kansas State', 'teamId': 1132}, {'rank': 20, 'team': 'Clemson', 'teamId': 1272}, {'rank': 21, 'team': 'NC State', 'teamId': 1141}, {'rank': 22, 'team': 'Iowa', 'teamId': 1209}, {'rank': 23, 'team': 'Kansas', 'teamId': 1053}, {'rank': 24, 'team': 'SMU', 'teamId': 1307}, {'rank': 25, 'team': 'West Virginia', 'teamId': 1238}]}]}\n"
     ]
    }
   ],
   "source": [
    "import requests\n",
    "\n",
    "url = \"https://sportspage-feeds.p.rapidapi.com/rankings\"\n",
    "\n",
    "querystring = {\"league\":\"NCAAF\"}\n",
    "\n",
    "headers = {\n",
    "    \"X-RapidAPI-Key\": \"1342981e3emshc7a5f249e891318p1a214fjsn76e638f920ee\",\n",
    "    \"X-RapidAPI-Host\": \"sportspage-feeds.p.rapidapi.com\"\n",
    "}\n",
    "\n",
    "response = requests.get(url, headers=headers, params=querystring)\n",
    "\n",
    "print(response.json())"
   ]
  },
  {
   "cell_type": "code",
   "execution_count": 10,
   "id": "3a23fc20",
   "metadata": {},
   "outputs": [
    {
     "name": "stdout",
     "output_type": "stream",
     "text": [
      "Collecting dash\n",
      "  Downloading dash-2.16.1-py3-none-any.whl.metadata (10 kB)\n",
      "Requirement already satisfied: Flask<3.1,>=1.0.4 in /Users/tanuja/anaconda3/lib/python3.11/site-packages (from dash) (2.2.2)\n",
      "Requirement already satisfied: Werkzeug<3.1 in /Users/tanuja/anaconda3/lib/python3.11/site-packages (from dash) (2.2.3)\n",
      "Requirement already satisfied: plotly>=5.0.0 in /Users/tanuja/anaconda3/lib/python3.11/site-packages (from dash) (5.9.0)\n",
      "Collecting dash-html-components==2.0.0 (from dash)\n",
      "  Downloading dash_html_components-2.0.0-py3-none-any.whl.metadata (3.8 kB)\n",
      "Collecting dash-core-components==2.0.0 (from dash)\n",
      "  Downloading dash_core_components-2.0.0-py3-none-any.whl.metadata (2.9 kB)\n",
      "Collecting dash-table==5.0.0 (from dash)\n",
      "  Downloading dash_table-5.0.0-py3-none-any.whl.metadata (2.4 kB)\n",
      "Requirement already satisfied: importlib-metadata in /Users/tanuja/anaconda3/lib/python3.11/site-packages (from dash) (6.0.0)\n",
      "Requirement already satisfied: typing-extensions>=4.1.1 in /Users/tanuja/anaconda3/lib/python3.11/site-packages (from dash) (4.7.1)\n",
      "Requirement already satisfied: requests in /Users/tanuja/anaconda3/lib/python3.11/site-packages (from dash) (2.31.0)\n",
      "Collecting retrying (from dash)\n",
      "  Downloading retrying-1.3.4-py3-none-any.whl.metadata (6.9 kB)\n",
      "Requirement already satisfied: nest-asyncio in /Users/tanuja/anaconda3/lib/python3.11/site-packages (from dash) (1.5.6)\n",
      "Requirement already satisfied: setuptools in /Users/tanuja/anaconda3/lib/python3.11/site-packages (from dash) (69.2.0)\n",
      "Requirement already satisfied: Jinja2>=3.0 in /Users/tanuja/anaconda3/lib/python3.11/site-packages (from Flask<3.1,>=1.0.4->dash) (3.1.2)\n",
      "Requirement already satisfied: itsdangerous>=2.0 in /Users/tanuja/anaconda3/lib/python3.11/site-packages (from Flask<3.1,>=1.0.4->dash) (2.0.1)\n",
      "Requirement already satisfied: click>=8.0 in /Users/tanuja/anaconda3/lib/python3.11/site-packages (from Flask<3.1,>=1.0.4->dash) (8.0.4)\n",
      "Requirement already satisfied: tenacity>=6.2.0 in /Users/tanuja/anaconda3/lib/python3.11/site-packages (from plotly>=5.0.0->dash) (8.2.2)\n",
      "Requirement already satisfied: MarkupSafe>=2.1.1 in /Users/tanuja/anaconda3/lib/python3.11/site-packages (from Werkzeug<3.1->dash) (2.1.1)\n",
      "Requirement already satisfied: zipp>=0.5 in /Users/tanuja/anaconda3/lib/python3.11/site-packages (from importlib-metadata->dash) (3.11.0)\n",
      "Requirement already satisfied: charset-normalizer<4,>=2 in /Users/tanuja/anaconda3/lib/python3.11/site-packages (from requests->dash) (2.0.4)\n",
      "Requirement already satisfied: idna<4,>=2.5 in /Users/tanuja/anaconda3/lib/python3.11/site-packages (from requests->dash) (3.4)\n",
      "Requirement already satisfied: urllib3<3,>=1.21.1 in /Users/tanuja/anaconda3/lib/python3.11/site-packages (from requests->dash) (1.26.16)\n",
      "Requirement already satisfied: certifi>=2017.4.17 in /Users/tanuja/anaconda3/lib/python3.11/site-packages (from requests->dash) (2023.7.22)\n",
      "Requirement already satisfied: six>=1.7.0 in /Users/tanuja/anaconda3/lib/python3.11/site-packages (from retrying->dash) (1.16.0)\n",
      "Downloading dash-2.16.1-py3-none-any.whl (10.2 MB)\n",
      "\u001b[2K   \u001b[90m━━━━━━━━━━━━━━━━━━━━━━━━━━━━━━━━━━━━━━━━\u001b[0m \u001b[32m10.2/10.2 MB\u001b[0m \u001b[31m27.2 MB/s\u001b[0m eta \u001b[36m0:00:00\u001b[0m \u001b[36m0:00:01\u001b[0m\n",
      "\u001b[?25hDownloading dash_core_components-2.0.0-py3-none-any.whl (3.8 kB)\n",
      "Downloading dash_html_components-2.0.0-py3-none-any.whl (4.1 kB)\n",
      "Downloading dash_table-5.0.0-py3-none-any.whl (3.9 kB)\n",
      "Downloading retrying-1.3.4-py3-none-any.whl (11 kB)\n",
      "Installing collected packages: dash-table, dash-html-components, dash-core-components, retrying, dash\n",
      "Successfully installed dash-2.16.1 dash-core-components-2.0.0 dash-html-components-2.0.0 dash-table-5.0.0 retrying-1.3.4\n",
      "Note: you may need to restart the kernel to use updated packages.\n"
     ]
    }
   ],
   "source": [
    "pip install dash"
   ]
  },
  {
   "cell_type": "code",
   "execution_count": 18,
   "id": "59e2d6c7",
   "metadata": {},
   "outputs": [
    {
     "data": {
      "text/html": [
       "\n",
       "        <iframe\n",
       "            width=\"100%\"\n",
       "            height=\"650\"\n",
       "            src=\"http://127.0.0.1:8050/\"\n",
       "            frameborder=\"0\"\n",
       "            allowfullscreen\n",
       "            \n",
       "        ></iframe>\n",
       "        "
      ],
      "text/plain": [
       "<IPython.lib.display.IFrame at 0x10768a1d0>"
      ]
     },
     "metadata": {},
     "output_type": "display_data"
    }
   ],
   "source": [
    "import dash\n",
    "from dash import html, dcc, Input, Output\n",
    "import requests\n",
    "\n",
    "# Initialize Dash app\n",
    "app = dash.Dash(__name__)\n",
    "\n",
    "# Set up layout\n",
    "app.layout = html.Div([\n",
    "    html.H1(\"NCAAF Rankings\"),\n",
    "    dcc.Loading(id=\"loading\", children=[html.Div(id=\"output\")])\n",
    "])\n",
    "\n",
    "# Callback to fetch and display data\n",
    "@app.callback(\n",
    "    Output(\"output\", \"children\"),\n",
    "    [Input(\"loading\", \"loading_state\")]\n",
    ")\n",
    "def update_output(loading):\n",
    "    # Fetch data from API\n",
    "    url = \"https://sportspage-feeds.p.rapidapi.com/rankings\"\n",
    "    querystring = {\"league\": \"NCAAF\"}\n",
    "    headers = {\"X-RapidAPI-Key\": \"1342981e3emshc7a5f249e891318p1a214fjsn76e638f920ee\"}\n",
    "    try:\n",
    "        response = requests.get(url, headers=headers, params=querystring)\n",
    "        response.raise_for_status()\n",
    "        data = response.json()\n",
    "        # Process and format the data for display\n",
    "        rankings = [\n",
    "            html.Div([\n",
    "                html.H2(rank['name']),\n",
    "                html.Ul([html.Li(f\"{team['rank']}. {team['team']}\") for team in rank['rankings']])\n",
    "            ]) \n",
    "            for rank in data['results']\n",
    "        ]\n",
    "        \n",
    "        return rankings\n",
    "    \n",
    "    except requests.exceptions.RequestException as e:\n",
    "        return html.Div(f\"Error fetching data: {e}\")\n",
    "\n",
    "# Run the app\n",
    "if __name__ == '__main__':\n",
    "    app.run_server(debug=True)\n"
   ]
  },
  {
   "cell_type": "code",
   "execution_count": null,
   "id": "7585fca2",
   "metadata": {},
   "outputs": [],
   "source": []
  }
 ],
 "metadata": {
  "kernelspec": {
   "display_name": "Python 3 (ipykernel)",
   "language": "python",
   "name": "python3"
  },
  "language_info": {
   "codemirror_mode": {
    "name": "ipython",
    "version": 3
   },
   "file_extension": ".py",
   "mimetype": "text/x-python",
   "name": "python",
   "nbconvert_exporter": "python",
   "pygments_lexer": "ipython3",
   "version": "3.11.4"
  }
 },
 "nbformat": 4,
 "nbformat_minor": 5
}
